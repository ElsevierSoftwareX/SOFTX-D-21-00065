{
 "cells": [
  {
   "cell_type": "markdown",
   "id": "822a4ac3",
   "metadata": {},
   "source": [
    "First things first: set the ROOTDIR and import the necessary packages:"
   ]
  },
  {
   "cell_type": "code",
   "execution_count": 1,
   "id": "b9218226",
   "metadata": {},
   "outputs": [],
   "source": [
    "from IPython.display import display, Markdown\n",
    "\n",
    "import mics_library\n",
    "import os\n",
    "\n",
    "ROOTDIR = '/path/to/original' \n",
    "\n",
    "mics_library.set_rootdir(ROOTDIR)"
   ]
  },
  {
   "cell_type": "markdown",
   "id": "5468d0d3",
   "metadata": {},
   "source": [
    "## Check indicators\n",
    "In this step, we need to make sure that the information provided by each country is consistent and coherent.\n",
    "\n",
    "Specifically:\n",
    "\n",
    "### 1. That the same item indicates the same question for all countries\n",
    "The same acronym might indicate different questions in different countries.\n",
    "Either because of variations in the way the question is asked; or because a question has different acronyms between countries.\n",
    "Then, we need to make sure that we are using the correct items/acronyms for each country.\n",
    "\n",
    "### 2. That the encoded answers have the same meaning for all countries\n",
    "MICS items record the answers to questions that are asked to participants.\n",
    "Most of the MICS questions are *multiple choice* questions: answers are then categorical variables, that are encoded as numerical values.\n",
    "For instance, a MICS item/question with Yes/No answers (e.g. \"Is the natural father alive\") encodes for the following answers:\n",
    "- 1 : \"Yes\"\n",
    "- 2 : \"No\"\n",
    "- 9 : Missing answer or \"Don't know\"\n",
    "\n",
    "However, different countries may have different categories, with different numerical encoding.\n",
    "\n",
    "When we analyse MICS data we rely on the numerical representation of the answers, so we must make sure that the same number (i.e. *numerical representation*) corresponds to the same meaning across different countries.\n",
    "\n",
    "Therefore, for each indicator, we need to check the numerical representations that are used by each country.\n",
    "We use the `mics_library.preview.check_values` function:"
   ]
  },
  {
   "cell_type": "code",
   "execution_count": 2,
   "id": "af7cd350",
   "metadata": {},
   "outputs": [],
   "source": [
    "from mics_library.preview import check_values"
   ]
  },
  {
   "cell_type": "markdown",
   "id": "59055f07",
   "metadata": {},
   "source": [
    "In the step before we selected the indicators of interest for the analysis:"
   ]
  },
  {
   "cell_type": "code",
   "execution_count": 3,
   "id": "5aa5dddb",
   "metadata": {},
   "outputs": [],
   "source": [
    "ROUND = 5\n",
    "\n",
    "select_indicators = {'hh': ['HELEVEL'], #education level of the household head\n",
    "                     'hl': ['HL3'],     #relation to the household head\n",
    "                     'ch': ['EC1',      #number of books\n",
    "                            'EC5',      #attend early education programme\n",
    "                            'AG2']      #age of child\n",
    "                    }"
   ]
  },
  {
   "cell_type": "markdown",
   "id": "69725a65",
   "metadata": {},
   "source": [
    "We use the `check_values` function to obtain information about the meaning and numerical encoding of each indicator for each country."
   ]
  },
  {
   "cell_type": "code",
   "execution_count": 4,
   "id": "7204644d",
   "metadata": {},
   "outputs": [],
   "source": [
    "dataframes = check_values(micsround=ROUND, indicators=select_indicators, swap_indicators={}, ignorecase=True)"
   ]
  },
  {
   "cell_type": "markdown",
   "id": "d0d7eb5b",
   "metadata": {},
   "source": [
    "The result is a dictionary -- of dictionaries -- of dataframes:\n",
    "                    \n",
    "`{'questionnaire1' : {'indicator' : dataframe, ...}, ...}`\n",
    "\n",
    "Let's see:"
   ]
  },
  {
   "cell_type": "code",
   "execution_count": 5,
   "id": "96481f36",
   "metadata": {},
   "outputs": [
    {
     "data": {
      "text/markdown": [
       "---"
      ],
      "text/plain": [
       "<IPython.core.display.Markdown object>"
      ]
     },
     "metadata": {},
     "output_type": "display_data"
    },
    {
     "data": {
      "text/markdown": [
       "## hh"
      ],
      "text/plain": [
       "<IPython.core.display.Markdown object>"
      ]
     },
     "metadata": {},
     "output_type": "display_data"
    },
    {
     "data": {
      "text/markdown": [
       "### HELEVEL"
      ],
      "text/plain": [
       "<IPython.core.display.Markdown object>"
      ]
     },
     "metadata": {},
     "output_type": "display_data"
    },
    {
     "data": {
      "text/html": [
       "<div>\n",
       "<style scoped>\n",
       "    .dataframe tbody tr th:only-of-type {\n",
       "        vertical-align: middle;\n",
       "    }\n",
       "\n",
       "    .dataframe tbody tr th {\n",
       "        vertical-align: top;\n",
       "    }\n",
       "\n",
       "    .dataframe thead th {\n",
       "        text-align: right;\n",
       "    }\n",
       "</style>\n",
       "<table border=\"1\" class=\"dataframe\">\n",
       "  <thead>\n",
       "    <tr style=\"text-align: right;\">\n",
       "      <th></th>\n",
       "      <th>label</th>\n",
       "      <th>used_indicator</th>\n",
       "      <th>1.0</th>\n",
       "      <th>2.0</th>\n",
       "      <th>3.0</th>\n",
       "      <th>4.0</th>\n",
       "      <th>5.0</th>\n",
       "      <th>9.0</th>\n",
       "    </tr>\n",
       "  </thead>\n",
       "  <tbody>\n",
       "    <tr>\n",
       "      <th>Bangladesh</th>\n",
       "      <td>Education of household head</td>\n",
       "      <td>HELEVEL</td>\n",
       "      <td>None</td>\n",
       "      <td>Primary incomplete</td>\n",
       "      <td>Primary complete</td>\n",
       "      <td>Secondary incomplete</td>\n",
       "      <td>Secondary complete or higher</td>\n",
       "      <td>Missing/DK</td>\n",
       "    </tr>\n",
       "    <tr>\n",
       "      <th>Pakistan (Punjab)</th>\n",
       "      <td>Education of household head</td>\n",
       "      <td>HELEVEL</td>\n",
       "      <td>None/pre-school</td>\n",
       "      <td>Primary</td>\n",
       "      <td>Middle</td>\n",
       "      <td>Secondary</td>\n",
       "      <td>Higher</td>\n",
       "      <td>Missing/DK</td>\n",
       "    </tr>\n",
       "    <tr>\n",
       "      <th>Nigeria</th>\n",
       "      <td>Education of household head</td>\n",
       "      <td>HELEVEL</td>\n",
       "      <td>None</td>\n",
       "      <td>Primary</td>\n",
       "      <td>Secondary / Secondary-technical</td>\n",
       "      <td>Higher</td>\n",
       "      <td>Non-formal</td>\n",
       "      <td>Missing/DK</td>\n",
       "    </tr>\n",
       "  </tbody>\n",
       "</table>\n",
       "</div>"
      ],
      "text/plain": [
       "                                         label used_indicator  \\\n",
       "Bangladesh         Education of household head        HELEVEL   \n",
       "Pakistan (Punjab)  Education of household head        HELEVEL   \n",
       "Nigeria            Education of household head        HELEVEL   \n",
       "\n",
       "                               1.0                 2.0  \\\n",
       "Bangladesh                    None  Primary incomplete   \n",
       "Pakistan (Punjab)  None/pre-school             Primary   \n",
       "Nigeria                       None             Primary   \n",
       "\n",
       "                                               3.0                   4.0  \\\n",
       "Bangladesh                        Primary complete  Secondary incomplete   \n",
       "Pakistan (Punjab)                           Middle             Secondary   \n",
       "Nigeria            Secondary / Secondary-technical                Higher   \n",
       "\n",
       "                                            5.0         9.0  \n",
       "Bangladesh         Secondary complete or higher  Missing/DK  \n",
       "Pakistan (Punjab)                        Higher  Missing/DK  \n",
       "Nigeria                              Non-formal  Missing/DK  "
      ]
     },
     "metadata": {},
     "output_type": "display_data"
    },
    {
     "data": {
      "text/markdown": [
       "---"
      ],
      "text/plain": [
       "<IPython.core.display.Markdown object>"
      ]
     },
     "metadata": {},
     "output_type": "display_data"
    },
    {
     "data": {
      "text/markdown": [
       "## hl"
      ],
      "text/plain": [
       "<IPython.core.display.Markdown object>"
      ]
     },
     "metadata": {},
     "output_type": "display_data"
    },
    {
     "data": {
      "text/markdown": [
       "### HL3"
      ],
      "text/plain": [
       "<IPython.core.display.Markdown object>"
      ]
     },
     "metadata": {},
     "output_type": "display_data"
    },
    {
     "data": {
      "text/html": [
       "<div>\n",
       "<style scoped>\n",
       "    .dataframe tbody tr th:only-of-type {\n",
       "        vertical-align: middle;\n",
       "    }\n",
       "\n",
       "    .dataframe tbody tr th {\n",
       "        vertical-align: top;\n",
       "    }\n",
       "\n",
       "    .dataframe thead th {\n",
       "        text-align: right;\n",
       "    }\n",
       "</style>\n",
       "<table border=\"1\" class=\"dataframe\">\n",
       "  <thead>\n",
       "    <tr style=\"text-align: right;\">\n",
       "      <th></th>\n",
       "      <th>label</th>\n",
       "      <th>used_indicator</th>\n",
       "      <th>1.0</th>\n",
       "      <th>2.0</th>\n",
       "      <th>3.0</th>\n",
       "      <th>4.0</th>\n",
       "      <th>5.0</th>\n",
       "      <th>6.0</th>\n",
       "      <th>7.0</th>\n",
       "      <th>8.0</th>\n",
       "      <th>9.0</th>\n",
       "      <th>10.0</th>\n",
       "      <th>11.0</th>\n",
       "      <th>12.0</th>\n",
       "      <th>13.0</th>\n",
       "      <th>14.0</th>\n",
       "      <th>97.0</th>\n",
       "      <th>98.0</th>\n",
       "      <th>99.0</th>\n",
       "      <th>96.0</th>\n",
       "    </tr>\n",
       "  </thead>\n",
       "  <tbody>\n",
       "    <tr>\n",
       "      <th>Bangladesh</th>\n",
       "      <td>Relationship to the head</td>\n",
       "      <td>HL3</td>\n",
       "      <td>Head</td>\n",
       "      <td>Wife / Husband</td>\n",
       "      <td>Son / Daughter</td>\n",
       "      <td>Son-In-Law / Daughter-In-Law</td>\n",
       "      <td>Grandchild</td>\n",
       "      <td>Parent</td>\n",
       "      <td>Parent-In-Law</td>\n",
       "      <td>Brother / Sister</td>\n",
       "      <td>Brother-In-Law / Sister-In-Law</td>\n",
       "      <td>Uncle / Aunt</td>\n",
       "      <td>Niece / Nephew</td>\n",
       "      <td>Other relative</td>\n",
       "      <td>Adopted / Foster / Stepchild</td>\n",
       "      <td>Not related</td>\n",
       "      <td>Inconsistent</td>\n",
       "      <td>Don't know</td>\n",
       "      <td>Missing</td>\n",
       "      <td>NaN</td>\n",
       "    </tr>\n",
       "    <tr>\n",
       "      <th>Pakistan (Punjab)</th>\n",
       "      <td>Relationship to the head</td>\n",
       "      <td>HL3</td>\n",
       "      <td>Head</td>\n",
       "      <td>Wife / Husband</td>\n",
       "      <td>Son / Daughter</td>\n",
       "      <td>Son-In-Law / Daughter-In-Law</td>\n",
       "      <td>Grandchild</td>\n",
       "      <td>Parent</td>\n",
       "      <td>Parent-In-Law</td>\n",
       "      <td>Brother / Sister</td>\n",
       "      <td>Brother-In-Law / Sister-In-Law</td>\n",
       "      <td>Uncle / Aunt</td>\n",
       "      <td>Niece / Nephew</td>\n",
       "      <td>Other relative</td>\n",
       "      <td>Adopted / Foster / Stepchild</td>\n",
       "      <td>Servant (Live-in)</td>\n",
       "      <td>Inconsistent</td>\n",
       "      <td>DK</td>\n",
       "      <td>Missing</td>\n",
       "      <td>Other (Not related)</td>\n",
       "    </tr>\n",
       "    <tr>\n",
       "      <th>Nigeria</th>\n",
       "      <td>Relationship to the head</td>\n",
       "      <td>HL3</td>\n",
       "      <td>Head</td>\n",
       "      <td>Spouse/Partner</td>\n",
       "      <td>Son / Daughter</td>\n",
       "      <td>Son-In-Law / Daughter-In-Law</td>\n",
       "      <td>Grandchild</td>\n",
       "      <td>Parent</td>\n",
       "      <td>Parent-In-Law</td>\n",
       "      <td>Brother / Sister</td>\n",
       "      <td>Brother-In-Law / Sister-In-Law</td>\n",
       "      <td>Uncle / Aunt</td>\n",
       "      <td>Niece / Nephew</td>\n",
       "      <td>Other relative</td>\n",
       "      <td>Adopted / Foster / Stepchild</td>\n",
       "      <td>Servant (Live-in)</td>\n",
       "      <td>Inconsistent</td>\n",
       "      <td>DK</td>\n",
       "      <td>Missing</td>\n",
       "      <td>Other (Not related)</td>\n",
       "    </tr>\n",
       "  </tbody>\n",
       "</table>\n",
       "</div>"
      ],
      "text/plain": [
       "                                      label used_indicator   1.0  \\\n",
       "Bangladesh         Relationship to the head            HL3  Head   \n",
       "Pakistan (Punjab)  Relationship to the head            HL3  Head   \n",
       "Nigeria            Relationship to the head            HL3  Head   \n",
       "\n",
       "                              2.0             3.0  \\\n",
       "Bangladesh         Wife / Husband  Son / Daughter   \n",
       "Pakistan (Punjab)  Wife / Husband  Son / Daughter   \n",
       "Nigeria            Spouse/Partner  Son / Daughter   \n",
       "\n",
       "                                            4.0         5.0     6.0  \\\n",
       "Bangladesh         Son-In-Law / Daughter-In-Law  Grandchild  Parent   \n",
       "Pakistan (Punjab)  Son-In-Law / Daughter-In-Law  Grandchild  Parent   \n",
       "Nigeria            Son-In-Law / Daughter-In-Law  Grandchild  Parent   \n",
       "\n",
       "                             7.0               8.0  \\\n",
       "Bangladesh         Parent-In-Law  Brother / Sister   \n",
       "Pakistan (Punjab)  Parent-In-Law  Brother / Sister   \n",
       "Nigeria            Parent-In-Law  Brother / Sister   \n",
       "\n",
       "                                              9.0          10.0  \\\n",
       "Bangladesh         Brother-In-Law / Sister-In-Law  Uncle / Aunt   \n",
       "Pakistan (Punjab)  Brother-In-Law / Sister-In-Law  Uncle / Aunt   \n",
       "Nigeria            Brother-In-Law / Sister-In-Law  Uncle / Aunt   \n",
       "\n",
       "                             11.0            12.0  \\\n",
       "Bangladesh         Niece / Nephew  Other relative   \n",
       "Pakistan (Punjab)  Niece / Nephew  Other relative   \n",
       "Nigeria            Niece / Nephew  Other relative   \n",
       "\n",
       "                                           13.0               14.0  \\\n",
       "Bangladesh         Adopted / Foster / Stepchild        Not related   \n",
       "Pakistan (Punjab)  Adopted / Foster / Stepchild  Servant (Live-in)   \n",
       "Nigeria            Adopted / Foster / Stepchild  Servant (Live-in)   \n",
       "\n",
       "                           97.0        98.0     99.0                 96.0  \n",
       "Bangladesh         Inconsistent  Don't know  Missing                  NaN  \n",
       "Pakistan (Punjab)  Inconsistent          DK  Missing  Other (Not related)  \n",
       "Nigeria            Inconsistent          DK  Missing  Other (Not related)  "
      ]
     },
     "metadata": {},
     "output_type": "display_data"
    },
    {
     "data": {
      "text/markdown": [
       "---"
      ],
      "text/plain": [
       "<IPython.core.display.Markdown object>"
      ]
     },
     "metadata": {},
     "output_type": "display_data"
    },
    {
     "data": {
      "text/markdown": [
       "## ch"
      ],
      "text/plain": [
       "<IPython.core.display.Markdown object>"
      ]
     },
     "metadata": {},
     "output_type": "display_data"
    },
    {
     "data": {
      "text/markdown": [
       "### AG2"
      ],
      "text/plain": [
       "<IPython.core.display.Markdown object>"
      ]
     },
     "metadata": {},
     "output_type": "display_data"
    },
    {
     "data": {
      "text/html": [
       "<div>\n",
       "<style scoped>\n",
       "    .dataframe tbody tr th:only-of-type {\n",
       "        vertical-align: middle;\n",
       "    }\n",
       "\n",
       "    .dataframe tbody tr th {\n",
       "        vertical-align: top;\n",
       "    }\n",
       "\n",
       "    .dataframe thead th {\n",
       "        text-align: right;\n",
       "    }\n",
       "</style>\n",
       "<table border=\"1\" class=\"dataframe\">\n",
       "  <thead>\n",
       "    <tr style=\"text-align: right;\">\n",
       "      <th></th>\n",
       "      <th>label</th>\n",
       "      <th>used_indicator</th>\n",
       "    </tr>\n",
       "  </thead>\n",
       "  <tbody>\n",
       "    <tr>\n",
       "      <th>Bangladesh</th>\n",
       "      <td>Age of child</td>\n",
       "      <td>AG2</td>\n",
       "    </tr>\n",
       "    <tr>\n",
       "      <th>Pakistan (Punjab)</th>\n",
       "      <td>Age of child</td>\n",
       "      <td>AG2</td>\n",
       "    </tr>\n",
       "    <tr>\n",
       "      <th>Nigeria</th>\n",
       "      <td>Age of child</td>\n",
       "      <td>AG2</td>\n",
       "    </tr>\n",
       "  </tbody>\n",
       "</table>\n",
       "</div>"
      ],
      "text/plain": [
       "                          label used_indicator\n",
       "Bangladesh         Age of child            AG2\n",
       "Pakistan (Punjab)  Age of child            AG2\n",
       "Nigeria            Age of child            AG2"
      ]
     },
     "metadata": {},
     "output_type": "display_data"
    },
    {
     "data": {
      "text/markdown": [
       "### EC1"
      ],
      "text/plain": [
       "<IPython.core.display.Markdown object>"
      ]
     },
     "metadata": {},
     "output_type": "display_data"
    },
    {
     "data": {
      "text/html": [
       "<div>\n",
       "<style scoped>\n",
       "    .dataframe tbody tr th:only-of-type {\n",
       "        vertical-align: middle;\n",
       "    }\n",
       "\n",
       "    .dataframe tbody tr th {\n",
       "        vertical-align: top;\n",
       "    }\n",
       "\n",
       "    .dataframe thead th {\n",
       "        text-align: right;\n",
       "    }\n",
       "</style>\n",
       "<table border=\"1\" class=\"dataframe\">\n",
       "  <thead>\n",
       "    <tr style=\"text-align: right;\">\n",
       "      <th></th>\n",
       "      <th>label</th>\n",
       "      <th>used_indicator</th>\n",
       "      <th>10.0</th>\n",
       "      <th>99.0</th>\n",
       "      <th>0.0</th>\n",
       "      <th>1.0</th>\n",
       "      <th>2.0</th>\n",
       "      <th>3.0</th>\n",
       "      <th>4.0</th>\n",
       "      <th>5.0</th>\n",
       "      <th>6.0</th>\n",
       "      <th>7.0</th>\n",
       "      <th>8.0</th>\n",
       "      <th>9.0</th>\n",
       "    </tr>\n",
       "  </thead>\n",
       "  <tbody>\n",
       "    <tr>\n",
       "      <th>Bangladesh</th>\n",
       "      <td>Number of children's books or picture books fo...</td>\n",
       "      <td>EC1</td>\n",
       "      <td>Ten or more books</td>\n",
       "      <td>Missing</td>\n",
       "      <td>NaN</td>\n",
       "      <td>NaN</td>\n",
       "      <td>NaN</td>\n",
       "      <td>NaN</td>\n",
       "      <td>NaN</td>\n",
       "      <td>NaN</td>\n",
       "      <td>NaN</td>\n",
       "      <td>NaN</td>\n",
       "      <td>NaN</td>\n",
       "      <td>NaN</td>\n",
       "    </tr>\n",
       "    <tr>\n",
       "      <th>Pakistan (Punjab)</th>\n",
       "      <td>Number of children's books or picture books fo...</td>\n",
       "      <td>EC1</td>\n",
       "      <td>Ten or more books</td>\n",
       "      <td>Missing</td>\n",
       "      <td>None</td>\n",
       "      <td>NaN</td>\n",
       "      <td>NaN</td>\n",
       "      <td>NaN</td>\n",
       "      <td>NaN</td>\n",
       "      <td>NaN</td>\n",
       "      <td>NaN</td>\n",
       "      <td>NaN</td>\n",
       "      <td>NaN</td>\n",
       "      <td>NaN</td>\n",
       "    </tr>\n",
       "    <tr>\n",
       "      <th>Nigeria</th>\n",
       "      <td>Number of children's books or picture books fo...</td>\n",
       "      <td>EC1</td>\n",
       "      <td>Ten or more books</td>\n",
       "      <td>Missing</td>\n",
       "      <td>None</td>\n",
       "      <td>One</td>\n",
       "      <td>Two</td>\n",
       "      <td>Three</td>\n",
       "      <td>Four</td>\n",
       "      <td>Five</td>\n",
       "      <td>Six</td>\n",
       "      <td>Seven</td>\n",
       "      <td>Eight</td>\n",
       "      <td>Nine</td>\n",
       "    </tr>\n",
       "  </tbody>\n",
       "</table>\n",
       "</div>"
      ],
      "text/plain": [
       "                                                               label  \\\n",
       "Bangladesh         Number of children's books or picture books fo...   \n",
       "Pakistan (Punjab)  Number of children's books or picture books fo...   \n",
       "Nigeria            Number of children's books or picture books fo...   \n",
       "\n",
       "                  used_indicator               10.0     99.0   0.0  1.0  2.0  \\\n",
       "Bangladesh                   EC1  Ten or more books  Missing   NaN  NaN  NaN   \n",
       "Pakistan (Punjab)            EC1  Ten or more books  Missing  None  NaN  NaN   \n",
       "Nigeria                      EC1  Ten or more books  Missing  None  One  Two   \n",
       "\n",
       "                     3.0   4.0   5.0  6.0    7.0    8.0   9.0  \n",
       "Bangladesh           NaN   NaN   NaN  NaN    NaN    NaN   NaN  \n",
       "Pakistan (Punjab)    NaN   NaN   NaN  NaN    NaN    NaN   NaN  \n",
       "Nigeria            Three  Four  Five  Six  Seven  Eight  Nine  "
      ]
     },
     "metadata": {},
     "output_type": "display_data"
    },
    {
     "data": {
      "text/markdown": [
       "### EC5"
      ],
      "text/plain": [
       "<IPython.core.display.Markdown object>"
      ]
     },
     "metadata": {},
     "output_type": "display_data"
    },
    {
     "data": {
      "text/html": [
       "<div>\n",
       "<style scoped>\n",
       "    .dataframe tbody tr th:only-of-type {\n",
       "        vertical-align: middle;\n",
       "    }\n",
       "\n",
       "    .dataframe tbody tr th {\n",
       "        vertical-align: top;\n",
       "    }\n",
       "\n",
       "    .dataframe thead th {\n",
       "        text-align: right;\n",
       "    }\n",
       "</style>\n",
       "<table border=\"1\" class=\"dataframe\">\n",
       "  <thead>\n",
       "    <tr style=\"text-align: right;\">\n",
       "      <th></th>\n",
       "      <th>label</th>\n",
       "      <th>used_indicator</th>\n",
       "      <th>1.0</th>\n",
       "      <th>2.0</th>\n",
       "      <th>8.0</th>\n",
       "      <th>9.0</th>\n",
       "    </tr>\n",
       "  </thead>\n",
       "  <tbody>\n",
       "    <tr>\n",
       "      <th>Bangladesh</th>\n",
       "      <td>Attends early childhood education programme</td>\n",
       "      <td>EC5</td>\n",
       "      <td>Yes</td>\n",
       "      <td>No</td>\n",
       "      <td>DK</td>\n",
       "      <td>Missing</td>\n",
       "    </tr>\n",
       "    <tr>\n",
       "      <th>Pakistan (Punjab)</th>\n",
       "      <td>Attends early childhood education programme</td>\n",
       "      <td>EC5</td>\n",
       "      <td>Yes</td>\n",
       "      <td>No</td>\n",
       "      <td>DK</td>\n",
       "      <td>Missing</td>\n",
       "    </tr>\n",
       "    <tr>\n",
       "      <th>Nigeria</th>\n",
       "      <td>Attends early childhood education programme</td>\n",
       "      <td>EC5</td>\n",
       "      <td>Yes</td>\n",
       "      <td>No</td>\n",
       "      <td>DK</td>\n",
       "      <td>Missing</td>\n",
       "    </tr>\n",
       "  </tbody>\n",
       "</table>\n",
       "</div>"
      ],
      "text/plain": [
       "                                                         label used_indicator  \\\n",
       "Bangladesh         Attends early childhood education programme            EC5   \n",
       "Pakistan (Punjab)  Attends early childhood education programme            EC5   \n",
       "Nigeria            Attends early childhood education programme            EC5   \n",
       "\n",
       "                   1.0 2.0 8.0      9.0  \n",
       "Bangladesh         Yes  No  DK  Missing  \n",
       "Pakistan (Punjab)  Yes  No  DK  Missing  \n",
       "Nigeria            Yes  No  DK  Missing  "
      ]
     },
     "metadata": {},
     "output_type": "display_data"
    }
   ],
   "source": [
    "#%%\n",
    "for quest in dataframes.keys():\n",
    "    display(Markdown('---'))\n",
    "    display(Markdown(f'## {quest}'))\n",
    "    dataframes_quest = dataframes[quest]\n",
    "    \n",
    "    for ind in dataframes_quest.keys():\n",
    "        display(Markdown(f'### {ind}'))\n",
    "        display(dataframes_quest[ind])"
   ]
  },
  {
   "cell_type": "markdown",
   "id": "f6ddb5cc",
   "metadata": {},
   "source": [
    "Dataframes report, for each country (on rows):\n",
    "- `label`: Textual description of the meaning of the item for the given country\n",
    "- `used_indicator`: The indicator that has been used for the given country. See Note on swap_indicators below.\n",
    "- `1..99..` : If the answer to the question is categorical, the number indicate the numerical representation and the cells (country, number) indicate the meaning of the given numerical representation for the given country.\n",
    "\n",
    "Note that:\n",
    "- The `AG2` item (Age of child) requires a numerical answer (not a categorical answer), so there are no numerilcal columns;\n",
    "- The numerical representation of the answers to the 'HELEVEL' item (Education of the Household Head) means different education levels for different countries (and we are only considering 3 countries!!!). The same for the `HL3` item (Relation to the Household Head.\n",
    "- The `EC1` item (Number of children's books) report the number of books (up to 10) for Nigeria, but it is considered a categorical variable (\">=10\", \"<10\") for the two other countries."
   ]
  },
  {
   "cell_type": "markdown",
   "id": "150f09dc",
   "metadata": {},
   "source": [
    "We suggest to save the dataframes into `.csv` files, to facilitate the inspection of the available information.\n",
    "We will use the saved files to correct the discrepancies between the numerical representations.\n"
   ]
  },
  {
   "cell_type": "code",
   "execution_count": 6,
   "id": "d7830e1a",
   "metadata": {},
   "outputs": [],
   "source": [
    "CHECKDIR = '/path/to/check'\n",
    "\n",
    "#this will create a folder for each questionnaire\n",
    "#and a csv file (inside the folder) for each item (of the questionnaire)\n",
    "for quest in dataframes.keys():\n",
    "    dataframes_quest = dataframes[quest]\n",
    "    os.makedirs(os.path.join(CHECKDIR, quest), exist_ok=True)\n",
    "    \n",
    "    for ind in dataframes_quest.keys():\n",
    "        dataframes_quest[ind].to_csv(os.path.join(CHECKDIR, quest, f'{ind}.csv'))"
   ]
  },
  {
   "cell_type": "markdown",
   "id": "6af30cde",
   "metadata": {},
   "source": [
    "### `swap_indicators`\n",
    "\n",
    "The `swap_indicators` parameter in the `mics_library` is used to deal with the different acronyms that are used by each country to indicate the SAME question.\n",
    "The `swap_indicators` parameter should be a dictionary:\n",
    "\n",
    "`{'questionnaire': \n",
    "    {'COUNTRY': {'TARGET_INDICATOR' : 'USED_INDICATOR', \n",
    "                 ...}        \n",
    "     ...}\n",
    " }`\n",
    " \n",
    " Where `TARGET_INDICATOR` is the acronym of item that is used by the other countries and `USED_INDICATOR` is the acronym of the same item in the specific `COUNTRY`.\n",
    " \n",
    " The `mics_library` already includes a database of indicators that should be swapped for each MICS round, which will be updated as we find more inconsistencies. "
   ]
  },
  {
   "cell_type": "code",
   "execution_count": 7,
   "id": "322871e3",
   "metadata": {},
   "outputs": [
    {
     "data": {
      "text/plain": [
       "{'hl': {'Ukraine': {'HL1': 'LN'},\n",
       "  'Georgia': {'HL1': 'LN'},\n",
       "  'Palestinians in Lebanon': {'HL10': '', 'HL12': ''}},\n",
       " 'wm': {'Burundi': {'LN': 'WM4'},\n",
       "  'Mongolia': {'LN': 'HL1'},\n",
       "  'Albania': {'LM': 'WMID'},\n",
       "  'Palestinians in Lebanon': {'LN': 'WM4'}},\n",
       " 'ch': {'Burundi': {'LN': 'UF4'},\n",
       "  'Mongolia': {'LN': 'HL1'},\n",
       "  'Albania': {'LN': 'UFID'},\n",
       "  'Palestinians in Lebanon': {'LN': 'UF4', 'UF6': ''}},\n",
       " 'hh': {'Nigeria': {'HC9F': 'HC9I'}, 'Cameroon': {'HC9F': 'HC9H'}}}"
      ]
     },
     "metadata": {},
     "output_type": "display_data"
    }
   ],
   "source": [
    "from mics_library.swap_indicators import swap_indicators\n",
    "\n",
    "display(swap_indicators[3])"
   ]
  },
  {
   "cell_type": "markdown",
   "id": "88eb911c",
   "metadata": {},
   "source": [
    " To notify more indicators that should be swapped, please open an Issue on the dedicated [gitlab]() page.\n",
    " \n",
    " When a different indicator is used for a specific country, the column `used_indicator` will show the true `USED_INDICATOR` (instead of the `TARGET_INDICATOR`)."
   ]
  },
  {
   "cell_type": "markdown",
   "id": "739ab73d",
   "metadata": {},
   "source": [
    "### `ignorecase`\n",
    "The `ignorecase` parameter is used to force the `mics_library` to treat acronyms composed by the same characters but different case, as the same acronym.\n",
    "If `ignorecase=True`, `AG2` and `ag2` or `Ag2` (etc etc) will be considered as the same item."
   ]
  },
  {
   "cell_type": "code",
   "execution_count": null,
   "id": "8babcd2b",
   "metadata": {},
   "outputs": [],
   "source": []
  }
 ],
 "metadata": {
  "kernelspec": {
   "display_name": "mics",
   "language": "python",
   "name": "mics"
  },
  "language_info": {
   "codemirror_mode": {
    "name": "ipython",
    "version": 3
   },
   "file_extension": ".py",
   "mimetype": "text/x-python",
   "name": "python",
   "nbconvert_exporter": "python",
   "pygments_lexer": "ipython3",
   "version": "3.9.2"
  }
 },
 "nbformat": 4,
 "nbformat_minor": 5
}
