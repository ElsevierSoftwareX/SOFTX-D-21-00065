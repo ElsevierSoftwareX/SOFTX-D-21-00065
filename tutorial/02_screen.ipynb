{
 "cells": [
  {
   "cell_type": "markdown",
   "id": "2d16e6ea",
   "metadata": {},
   "source": [
    "First things first: set the ROOTDIR and import the necessary packages:"
   ]
  },
  {
   "cell_type": "code",
   "execution_count": 1,
   "id": "555ce405",
   "metadata": {},
   "outputs": [],
   "source": [
    "from IPython.display import display, Markdown\n",
    "\n",
    "import mics_library\n",
    "import os\n",
    "\n",
    "ROOTDIR = '/path/to/mics/data'\n",
    "\n",
    "mics_library.set_rootdir(ROOTDIR)"
   ]
  },
  {
   "cell_type": "markdown",
   "id": "e48154d4",
   "metadata": {},
   "source": [
    "## Screen a MICS round\n",
    "\n",
    "The first step is to obtain an overall description of the indicators (i.e. items of the MICS identified by acronyms) available in a round of the MICS.\n",
    "\n",
    "To do so we can use the `mics_library.preview.screen` function:"
   ]
  },
  {
   "cell_type": "code",
   "execution_count": 2,
   "id": "00834746",
   "metadata": {},
   "outputs": [],
   "source": [
    "from mics_library.preview import screen"
   ]
  },
  {
   "cell_type": "markdown",
   "id": "02f5bf72",
   "metadata": {},
   "source": [
    "Then we need to set the MICS round we want to analyse and the target questionnaires.\n",
    "\n",
    "Target questionnaires are actually the name of the files that have been downloaded (without the `.sav` extension).\n",
    "There is not (always) an exact match between the name of the files and the questionnaires of the MICS... but this is to simplify things..."
   ]
  },
  {
   "cell_type": "code",
   "execution_count": 3,
   "id": "bf3fc5b1",
   "metadata": {},
   "outputs": [],
   "source": [
    "ROUND = 5\n",
    "TARGET_QUESTIONNAIRES = ['hh', 'hl', 'ch']"
   ]
  },
  {
   "cell_type": "markdown",
   "id": "1bf3eb07",
   "metadata": {},
   "source": [
    "Now we use the `screen` function to get a description of the available items for each questionnaire/file:"
   ]
  },
  {
   "cell_type": "code",
   "execution_count": 4,
   "id": "ba3a26d0",
   "metadata": {},
   "outputs": [],
   "source": [
    "#%% test screen function\n",
    "dataframes = screen(ROUND, questionnaires=TARGET_QUESTIONNAIRES, ignorecase=True)"
   ]
  },
  {
   "cell_type": "markdown",
   "id": "48b45ac1",
   "metadata": {},
   "source": [
    "The result is a dictionary of dataframes, where keys are the questionnaires and values are the dataframes:"
   ]
  },
  {
   "cell_type": "code",
   "execution_count": 5,
   "id": "467ac745",
   "metadata": {},
   "outputs": [
    {
     "data": {
      "text/markdown": [
       "---"
      ],
      "text/plain": [
       "<IPython.core.display.Markdown object>"
      ]
     },
     "metadata": {},
     "output_type": "display_data"
    },
    {
     "data": {
      "text/markdown": [
       "### hh"
      ],
      "text/plain": [
       "<IPython.core.display.Markdown object>"
      ]
     },
     "metadata": {},
     "output_type": "display_data"
    },
    {
     "data": {
      "text/html": [
       "<div>\n",
       "<style scoped>\n",
       "    .dataframe tbody tr th:only-of-type {\n",
       "        vertical-align: middle;\n",
       "    }\n",
       "\n",
       "    .dataframe tbody tr th {\n",
       "        vertical-align: top;\n",
       "    }\n",
       "\n",
       "    .dataframe thead th {\n",
       "        text-align: right;\n",
       "    }\n",
       "</style>\n",
       "<table border=\"1\" class=\"dataframe\">\n",
       "  <thead>\n",
       "    <tr style=\"text-align: right;\">\n",
       "      <th></th>\n",
       "      <th>label</th>\n",
       "      <th>ncountries</th>\n",
       "    </tr>\n",
       "  </thead>\n",
       "  <tbody>\n",
       "    <tr>\n",
       "      <th>HH1</th>\n",
       "      <td>Cluster number</td>\n",
       "      <td>3</td>\n",
       "    </tr>\n",
       "    <tr>\n",
       "      <th>HH2</th>\n",
       "      <td>Household number</td>\n",
       "      <td>3</td>\n",
       "    </tr>\n",
       "    <tr>\n",
       "      <th>HH3</th>\n",
       "      <td>Interviewer number</td>\n",
       "      <td>3</td>\n",
       "    </tr>\n",
       "    <tr>\n",
       "      <th>HH4</th>\n",
       "      <td>Supervisor number</td>\n",
       "      <td>3</td>\n",
       "    </tr>\n",
       "    <tr>\n",
       "      <th>HH5D</th>\n",
       "      <td>Day of interview</td>\n",
       "      <td>3</td>\n",
       "    </tr>\n",
       "    <tr>\n",
       "      <th>...</th>\n",
       "      <td>...</td>\n",
       "      <td>...</td>\n",
       "    </tr>\n",
       "    <tr>\n",
       "      <th>HHWEIGHTLAGOS</th>\n",
       "      <td>Lagos Household sample weight</td>\n",
       "      <td>1</td>\n",
       "    </tr>\n",
       "    <tr>\n",
       "      <th>WQHWEIGHTKANO</th>\n",
       "      <td>Kano WQ sample weight: Household</td>\n",
       "      <td>1</td>\n",
       "    </tr>\n",
       "    <tr>\n",
       "      <th>WQHWEIGHTLAGOS</th>\n",
       "      <td>Lagos WQ sample weight: Household</td>\n",
       "      <td>1</td>\n",
       "    </tr>\n",
       "    <tr>\n",
       "      <th>WQSWEIGHTKANO</th>\n",
       "      <td>Kano WQ sample weight: Source</td>\n",
       "      <td>1</td>\n",
       "    </tr>\n",
       "    <tr>\n",
       "      <th>WQSWEIGHTLAGOS</th>\n",
       "      <td>Lagos WQ sample weight: Source</td>\n",
       "      <td>1</td>\n",
       "    </tr>\n",
       "  </tbody>\n",
       "</table>\n",
       "<p>306 rows × 2 columns</p>\n",
       "</div>"
      ],
      "text/plain": [
       "                                            label  ncountries\n",
       "HH1                                Cluster number           3\n",
       "HH2                              Household number           3\n",
       "HH3                            Interviewer number           3\n",
       "HH4                             Supervisor number           3\n",
       "HH5D                             Day of interview           3\n",
       "...                                           ...         ...\n",
       "HHWEIGHTLAGOS       Lagos Household sample weight           1\n",
       "WQHWEIGHTKANO    Kano WQ sample weight: Household           1\n",
       "WQHWEIGHTLAGOS  Lagos WQ sample weight: Household           1\n",
       "WQSWEIGHTKANO       Kano WQ sample weight: Source           1\n",
       "WQSWEIGHTLAGOS     Lagos WQ sample weight: Source           1\n",
       "\n",
       "[306 rows x 2 columns]"
      ]
     },
     "metadata": {},
     "output_type": "display_data"
    },
    {
     "data": {
      "text/markdown": [
       "---"
      ],
      "text/plain": [
       "<IPython.core.display.Markdown object>"
      ]
     },
     "metadata": {},
     "output_type": "display_data"
    },
    {
     "data": {
      "text/markdown": [
       "### hl"
      ],
      "text/plain": [
       "<IPython.core.display.Markdown object>"
      ]
     },
     "metadata": {},
     "output_type": "display_data"
    },
    {
     "data": {
      "text/html": [
       "<div>\n",
       "<style scoped>\n",
       "    .dataframe tbody tr th:only-of-type {\n",
       "        vertical-align: middle;\n",
       "    }\n",
       "\n",
       "    .dataframe tbody tr th {\n",
       "        vertical-align: top;\n",
       "    }\n",
       "\n",
       "    .dataframe thead th {\n",
       "        text-align: right;\n",
       "    }\n",
       "</style>\n",
       "<table border=\"1\" class=\"dataframe\">\n",
       "  <thead>\n",
       "    <tr style=\"text-align: right;\">\n",
       "      <th></th>\n",
       "      <th>label</th>\n",
       "      <th>ncountries</th>\n",
       "    </tr>\n",
       "  </thead>\n",
       "  <tbody>\n",
       "    <tr>\n",
       "      <th>HH1</th>\n",
       "      <td>Cluster number</td>\n",
       "      <td>3</td>\n",
       "    </tr>\n",
       "    <tr>\n",
       "      <th>HH2</th>\n",
       "      <td>Household number</td>\n",
       "      <td>3</td>\n",
       "    </tr>\n",
       "    <tr>\n",
       "      <th>HL1</th>\n",
       "      <td>Line number</td>\n",
       "      <td>3</td>\n",
       "    </tr>\n",
       "    <tr>\n",
       "      <th>HL3</th>\n",
       "      <td>Relationship to the head</td>\n",
       "      <td>3</td>\n",
       "    </tr>\n",
       "    <tr>\n",
       "      <th>HL4</th>\n",
       "      <td>Sex</td>\n",
       "      <td>3</td>\n",
       "    </tr>\n",
       "    <tr>\n",
       "      <th>...</th>\n",
       "      <td>...</td>\n",
       "      <td>...</td>\n",
       "    </tr>\n",
       "    <tr>\n",
       "      <th>HH8</th>\n",
       "      <td>Household selected for men's questionnaire</td>\n",
       "      <td>1</td>\n",
       "    </tr>\n",
       "    <tr>\n",
       "      <th>ZONE</th>\n",
       "      <td>Geopolitical Zones</td>\n",
       "      <td>1</td>\n",
       "    </tr>\n",
       "    <tr>\n",
       "      <th>ETHNICITY</th>\n",
       "      <td>Ethnicity of household head</td>\n",
       "      <td>1</td>\n",
       "    </tr>\n",
       "    <tr>\n",
       "      <th>HHWEIGHTKANO</th>\n",
       "      <td>Kano Household sample weight</td>\n",
       "      <td>1</td>\n",
       "    </tr>\n",
       "    <tr>\n",
       "      <th>HHWEIGHTLAGOS</th>\n",
       "      <td>Lagos Household sample weight</td>\n",
       "      <td>1</td>\n",
       "    </tr>\n",
       "  </tbody>\n",
       "</table>\n",
       "<p>103 rows × 2 columns</p>\n",
       "</div>"
      ],
      "text/plain": [
       "                                                    label  ncountries\n",
       "HH1                                        Cluster number           3\n",
       "HH2                                      Household number           3\n",
       "HL1                                           Line number           3\n",
       "HL3                              Relationship to the head           3\n",
       "HL4                                                   Sex           3\n",
       "...                                                   ...         ...\n",
       "HH8            Household selected for men's questionnaire           1\n",
       "ZONE                                   Geopolitical Zones           1\n",
       "ETHNICITY                     Ethnicity of household head           1\n",
       "HHWEIGHTKANO                 Kano Household sample weight           1\n",
       "HHWEIGHTLAGOS               Lagos Household sample weight           1\n",
       "\n",
       "[103 rows x 2 columns]"
      ]
     },
     "metadata": {},
     "output_type": "display_data"
    },
    {
     "data": {
      "text/markdown": [
       "---"
      ],
      "text/plain": [
       "<IPython.core.display.Markdown object>"
      ]
     },
     "metadata": {},
     "output_type": "display_data"
    },
    {
     "data": {
      "text/markdown": [
       "### ch"
      ],
      "text/plain": [
       "<IPython.core.display.Markdown object>"
      ]
     },
     "metadata": {},
     "output_type": "display_data"
    },
    {
     "data": {
      "text/html": [
       "<div>\n",
       "<style scoped>\n",
       "    .dataframe tbody tr th:only-of-type {\n",
       "        vertical-align: middle;\n",
       "    }\n",
       "\n",
       "    .dataframe tbody tr th {\n",
       "        vertical-align: top;\n",
       "    }\n",
       "\n",
       "    .dataframe thead th {\n",
       "        text-align: right;\n",
       "    }\n",
       "</style>\n",
       "<table border=\"1\" class=\"dataframe\">\n",
       "  <thead>\n",
       "    <tr style=\"text-align: right;\">\n",
       "      <th></th>\n",
       "      <th>label</th>\n",
       "      <th>ncountries</th>\n",
       "    </tr>\n",
       "  </thead>\n",
       "  <tbody>\n",
       "    <tr>\n",
       "      <th>HH1</th>\n",
       "      <td>Cluster number</td>\n",
       "      <td>3</td>\n",
       "    </tr>\n",
       "    <tr>\n",
       "      <th>HH2</th>\n",
       "      <td>Household number</td>\n",
       "      <td>3</td>\n",
       "    </tr>\n",
       "    <tr>\n",
       "      <th>LN</th>\n",
       "      <td>Line number</td>\n",
       "      <td>3</td>\n",
       "    </tr>\n",
       "    <tr>\n",
       "      <th>UF1</th>\n",
       "      <td>Cluster number</td>\n",
       "      <td>3</td>\n",
       "    </tr>\n",
       "    <tr>\n",
       "      <th>UF2</th>\n",
       "      <td>Household number</td>\n",
       "      <td>3</td>\n",
       "    </tr>\n",
       "    <tr>\n",
       "      <th>...</th>\n",
       "      <td>...</td>\n",
       "      <td>...</td>\n",
       "    </tr>\n",
       "    <tr>\n",
       "      <th>HL6A</th>\n",
       "      <td>Member stayed in the house last night</td>\n",
       "      <td>1</td>\n",
       "    </tr>\n",
       "    <tr>\n",
       "      <th>ETHNICITY</th>\n",
       "      <td>Ethnicity of household head</td>\n",
       "      <td>1</td>\n",
       "    </tr>\n",
       "    <tr>\n",
       "      <th>ZONE</th>\n",
       "      <td>Geopolitical Zones</td>\n",
       "      <td>1</td>\n",
       "    </tr>\n",
       "    <tr>\n",
       "      <th>CHWEIGHTKANO</th>\n",
       "      <td>Kano Children's sample weight</td>\n",
       "      <td>1</td>\n",
       "    </tr>\n",
       "    <tr>\n",
       "      <th>CHWEIGHTLAGOS</th>\n",
       "      <td>Lagos Children's sample weight</td>\n",
       "      <td>1</td>\n",
       "    </tr>\n",
       "  </tbody>\n",
       "</table>\n",
       "<p>415 rows × 2 columns</p>\n",
       "</div>"
      ],
      "text/plain": [
       "                                               label  ncountries\n",
       "HH1                                   Cluster number           3\n",
       "HH2                                 Household number           3\n",
       "LN                                       Line number           3\n",
       "UF1                                   Cluster number           3\n",
       "UF2                                 Household number           3\n",
       "...                                              ...         ...\n",
       "HL6A           Member stayed in the house last night           1\n",
       "ETHNICITY                Ethnicity of household head           1\n",
       "ZONE                              Geopolitical Zones           1\n",
       "CHWEIGHTKANO           Kano Children's sample weight           1\n",
       "CHWEIGHTLAGOS         Lagos Children's sample weight           1\n",
       "\n",
       "[415 rows x 2 columns]"
      ]
     },
     "metadata": {},
     "output_type": "display_data"
    }
   ],
   "source": [
    "for quest in TARGET_QUESTIONNAIRES:\n",
    "    display(Markdown('---'))\n",
    "    display(Markdown(f'### {quest}'))\n",
    "    display(dataframes[quest])"
   ]
  },
  {
   "cell_type": "markdown",
   "id": "0838996a",
   "metadata": {},
   "source": [
    "Dataframes report, for each item (on rows):\n",
    "- `label`: Textual description of the meaning of the item. For more information you should refer to the forms used for the survey, available on [mics.unicef.org](mics.unicef.org). Please, note that actual description of an item for a specific country migh be different from the one reported here (this is one of the reasons we have another step: check_indicators); the reported description is most common one between the available countries;\n",
    "- `ncountries`: Number of countries that include the indicator."
   ]
  },
  {
   "cell_type": "markdown",
   "id": "854da902",
   "metadata": {},
   "source": [
    "We suggest to save the dataframes into `.csv` files, to facilitate the inspection of the available information.\n",
    "We will use the saved files to select the indicators that we will use in the analysis."
   ]
  },
  {
   "cell_type": "code",
   "execution_count": 6,
   "id": "82a6a944",
   "metadata": {},
   "outputs": [],
   "source": [
    "SCREENDIR = '/path/to/screen'\n",
    "\n",
    "for quest in TARGET_QUESTIONNAIRES:\n",
    "    dataframes[quest].to_csv(os.path.join(SCREENDIR, f'{quest}.csv'))"
   ]
  },
  {
   "cell_type": "code",
   "execution_count": null,
   "id": "e97cade6",
   "metadata": {},
   "outputs": [],
   "source": []
  }
 ],
 "metadata": {
  "kernelspec": {
   "display_name": "mics",
   "language": "python",
   "name": "mics"
  },
  "language_info": {
   "codemirror_mode": {
    "name": "ipython",
    "version": 3
   },
   "file_extension": ".py",
   "mimetype": "text/x-python",
   "name": "python",
   "nbconvert_exporter": "python",
   "pygments_lexer": "ipython3",
   "version": "3.9.2"
  }
 },
 "nbformat": 4,
 "nbformat_minor": 5
}
