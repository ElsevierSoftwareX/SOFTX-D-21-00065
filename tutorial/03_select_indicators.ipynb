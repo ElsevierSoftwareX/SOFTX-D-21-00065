{
 "cells": [
  {
   "cell_type": "markdown",
   "id": "ef1a57f4",
   "metadata": {},
   "source": [
    "### Select MICS indicators\n",
    "\n",
    "In this step we select the MICS indicators of interest for our analysis.\n",
    "We have not defined which is our analysis yet... For the purposes of this tutorial we will get inspiration from the data themselves.\n",
    "\n",
    "A correct research approach should first formulate the research question, and **then** look at the data.\n",
    "However, in this case it also is critical to know what data are available to be able to formulate the research question.\n",
    "We suggest to follow an intermediate approach: \n",
    "1. Have an idea about the topic and hypotheses you want to test;\n",
    "2. Identify the relevant MICS indicators and formulate compatible hypotheses\n",
    "\n",
    "For the step 2 we will work on the `.csv` files that were created in the `02_screen` step.\n",
    "You should open the `.csv` file with your favourite spreadsheet software and inspect the available indicators; then select those that are relevant to your hypothesis.\n"
   ]
  },
  {
   "cell_type": "markdown",
   "id": "637552b5",
   "metadata": {},
   "source": [
    "For the purposes of this tutorial, we identified  5 indicators:\n",
    "- `HELEVEL`, from the `hh` questionnaire: Eeducation level of the household head;\n",
    "- `HL3`, from the `hl` questionnaire: Relation to the household head;\n",
    "- `EC1`, from the `ch` questionnaire: Number of books available for the child;\n",
    "- `EC5`, from the `ch` questionnaire: Child attends early education programme;\n",
    "- `AG2`, from the `ch` questionnaire: Age of child"
   ]
  },
  {
   "cell_type": "markdown",
   "id": "a2ca9df6",
   "metadata": {},
   "source": [
    "### Research question\n",
    "\n",
    "We want to investigate whether being a child or grandchild of the household head affects the access to educational resources:\n",
    "- Books\n",
    "- Early education programme\n",
    "\n",
    "Having fixed: \n",
    "- The education level of the household head\n",
    "- Age range of children"
   ]
  },
  {
   "cell_type": "markdown",
   "id": "895094ae",
   "metadata": {},
   "source": [
    "Later, we will use a dictionary to define the selected indicators:"
   ]
  },
  {
   "cell_type": "code",
   "execution_count": 1,
   "id": "9b6bc970",
   "metadata": {},
   "outputs": [],
   "source": [
    "select_indicators = {'hh': ['HELEVEL'], #education level of the household head\n",
    "                     'hl': ['HL3'],     #relation to the household head\n",
    "                     'ch': ['EC1',      #number of books\n",
    "                            'EC5',      #attend early education programme\n",
    "                            'AG2']      #age of child\n",
    "                    }"
   ]
  },
  {
   "cell_type": "code",
   "execution_count": 2,
   "id": "c9d8b335",
   "metadata": {},
   "outputs": [
    {
     "name": "stdout",
     "output_type": "stream",
     "text": [
      "{'hh': ['HELEVEL'], 'hl': ['HL3'], 'ch': ['EC1', 'EC5', 'AG2']}\n"
     ]
    }
   ],
   "source": [
    "print(select_indicators)"
   ]
  },
  {
   "cell_type": "code",
   "execution_count": null,
   "id": "b8b4948b",
   "metadata": {},
   "outputs": [],
   "source": []
  }
 ],
 "metadata": {
  "kernelspec": {
   "display_name": "mics",
   "language": "python",
   "name": "mics"
  },
  "language_info": {
   "codemirror_mode": {
    "name": "ipython",
    "version": 3
   },
   "file_extension": ".py",
   "mimetype": "text/x-python",
   "name": "python",
   "nbconvert_exporter": "python",
   "pygments_lexer": "ipython3",
   "version": "3.9.2"
  }
 },
 "nbformat": 4,
 "nbformat_minor": 5
}
