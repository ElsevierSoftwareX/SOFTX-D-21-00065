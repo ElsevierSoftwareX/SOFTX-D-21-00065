{
 "cells": [
  {
   "cell_type": "markdown",
   "id": "854b8d98",
   "metadata": {},
   "source": [
    "## Install `mics_library`"
   ]
  },
  {
   "cell_type": "markdown",
   "id": "7a2cb44e",
   "metadata": {},
   "source": [
    "To install `mics_library`:\n",
    "```pip install mics_library```\n",
    "\n",
    "### Requirements\n",
    "`mics_library` will install the following required packages (if not already installed):\n",
    "* `numpy`\n",
    "* `pandas`\n",
    "* `pyreadstat`\n",
    "\n",
    "### `conda`\n",
    "You might consider using [conda](https://docs.conda.io/en/latest/#) to create a working environment to use `mics_library`."
   ]
  },
  {
   "cell_type": "markdown",
   "id": "a2937501",
   "metadata": {},
   "source": [
    "## Download MICS data"
   ]
  },
  {
   "cell_type": "markdown",
   "id": "f6158d82",
   "metadata": {},
   "source": [
    "Please, register to [mics.unicef.org](https://mics.unicef.org) and obtain permissions to download and use data for research purposes.\n",
    "Then download data from [mics.unicef.org/surveys](https://mics.unicef.org/surveys).\n",
    "\n",
    "Also, we suggest you familiarize with the MICS and data collection process. In particular:\n",
    "- Types of questionnaires and modules used for each round [https://mics.unicef.org/tools](https://mics.unicef.org/tools)\n",
    "- Sampling strategy and stratification: Clusters, Households, and Individuals\n",
    "\n",
    "In this tutorial we will use MICS5 data of the following countries/regions: \n",
    "- Bangladesh\n",
    "- Nigeria\n",
    "- Pakistan (Punjab)\n",
    "\n",
    "When downloading the data, you should organize files and folders as follows:\n",
    "\n",
    "```\n",
    "ROOTDIR\n",
    "└── MICS5\n",
    "    ├── Bangladesh MICS 2012-13 SPSS Datasets\n",
    "    │   ├── ch.sav\n",
    "    │   ├── hh.sav\n",
    "    │   ├── hl.sav\n",
    "    │   ├── Read me_Bangladesh MICS 2012-2013.txt\n",
    "    │   └── wm.sav\n",
    "    ├── Nigeria MICS 2016-17 SPSS Datasets\n",
    "    │   ├── bh.sav\n",
    "    │   ├── ch.sav\n",
    "    │   ├── fg.sav\n",
    "    │   ├── hh.sav\n",
    "    │   ├── hl.sav\n",
    "    │   ├── mn.sav\n",
    "    │   ├── Read me_Nigeria.txt\n",
    "    │   ├── tn.sav\n",
    "    │   └── wm.sav\n",
    "    └── Pakistan (Punjab) MICS 2014 SPSS Datasets\n",
    "        ├── ch.sav\n",
    "        ├── hh.sav\n",
    "        ├── hl.sav\n",
    "        ├── Read me_Pakistan (Punjab).txt\n",
    "        └── wm.sav\n",
    "```\n",
    "`ROOTDIR` is the directory where all the original MICS data should be saved, divided by round (`MICS4`, `MICS5`, ...) and country.\n",
    "\n",
    "Datafiles (`.sav` files) are saved in the folder of each country, and should include the following files:\n",
    "- `hh.sav`: Data about the households (Household Questionnaire)\n",
    "- `hl.sav`: Data about members of each Household (Household Questionnaire)\n",
    "- `ch.sav`: Data about the children under 5 (Children Under 5 Questionnaire)\n",
    "- `wm.sav`: Data about women (age: 15-49) (Women Questionnaire)\n",
    "\n",
    "Other files contain information for other (optional) modules. Functionalities to work with these files have not been implemented yet.\n",
    "\n",
    "#### **IMPORTANT: Please refer to the 'Read me' files for information about data usage permissions and restrictions for each country.**\n"
   ]
  },
  {
   "cell_type": "markdown",
   "id": "886e7985",
   "metadata": {},
   "source": [
    "---\n",
    "\n",
    "### Working with files and paths\n",
    "\n",
    "To use `mics_library` you need to be proficient about the use of _PATHS_ in Python.\n",
    "In particular:\n",
    "1. How to know the path of a specific file or folder\n",
    "2. How to write the path in Python\n",
    "\n",
    "#### 1. How to know the path of a specific file or folder\n",
    "There are several ways to know the path, some of them depend on the Operating System you are using (Windows, Linux, Mac, ...).\n",
    "Typically, when using a file manager software (e.g. File Explorer in Windows) the path is reported just below the menus. \n",
    "To be used in Python, you need to obtain the textual version of the path, for instance double-clicking on the path, or similar actions.\n",
    "\n",
    "In the end, you will need to copy (Ctrl-C) a text like these (within the `' '`):\n",
    "\n",
    "* `'C:\\Users\\User\\data'` [on Windows]\n",
    "* `'/home/user/data'` [on Linux]\n",
    "* `'/Users/user/data'` [on Mac]\n",
    "\n",
    "Please, find how to retrieve the path of files or folders on your system and familiarize with the methods before continuing with this tutorial.\n",
    "\n",
    "#### 2. How to write the path in Python\n",
    "Typically, the path can be just copied directly in the Python code.\n",
    "E.g., to save the path in a variable called `DATA_DIR`:\n",
    "\n",
    "`DATA_DIR = '/home/user/data'`\n",
    "\n",
    "However, Windows users should be careful about the correct _separator_ they need to use to compose path to be compatible with Python.\n",
    "\n",
    "Be careful about differences between `/`  and `\\`. Path in Windows use the `\\` which is not valid in Python.\n",
    "* You can substitute `\\` with `/`: `'C:\\Users\\User\\data'` --> `'C:/Users/User/data'`\n",
    "* Or you can double the `/`: `'C:\\Users\\User\\data'` --> `'C:\\\\Users\\\\User\\\\data'`\n",
    "\n",
    "See [this](https://stackoverflow.com/questions/2953834/windows-path-in-python) help page for more information.\n",
    "\n",
    "We will also need to concatenate paths, for instance to refer to a folder which is contained in a folder with a specific path.\n",
    "To this aim we will use the `os.path.join` function, which will make sure the correct separator is used.\n",
    "\n",
    "For instance to refer to the `original` folder contained in the `DATA_DIR`:\n",
    "\n",
    "`os.path.join(DATA_DIR, 'original')`\n",
    "\n",
    "---\n",
    "### Work with `pandas`\n",
    "\n",
    "`pandas` is a fundamental Python package to manage and analyse tabular data.\n",
    "We will extensively use `pandas.DataFrames` to store the data and information we extract from the MICS.\n",
    "We suggest you familiarize with the basic usage of `pandas` to make the most out of the `mics_library`.\n",
    "\n",
    "Tutorials can be found [here](https://pandas.pydata.org/pandas-docs/stable/getting_started/tutorials.html).\n"
   ]
  },
  {
   "cell_type": "markdown",
   "id": "6cc600f2",
   "metadata": {},
   "source": [
    "## Check that everything is working"
   ]
  },
  {
   "cell_type": "code",
   "execution_count": 1,
   "id": "f137dcbf",
   "metadata": {},
   "outputs": [],
   "source": [
    "import mics_library\n",
    "import os"
   ]
  },
  {
   "cell_type": "markdown",
   "id": "15700afb",
   "metadata": {},
   "source": [
    "Remember to set `ROOTDIR` with the path of the folder where you stored MICS data"
   ]
  },
  {
   "cell_type": "code",
   "execution_count": 2,
   "id": "ac3b380b",
   "metadata": {},
   "outputs": [],
   "source": [
    "ROOTDIR = '/path/to/mics/data'"
   ]
  },
  {
   "cell_type": "code",
   "execution_count": 3,
   "id": "f6e4c0d8",
   "metadata": {},
   "outputs": [
    {
     "name": "stdout",
     "output_type": "stream",
     "text": [
      "['MICS5']\n"
     ]
    }
   ],
   "source": [
    "mics_library.set_rootdir(ROOTDIR) #set the root dir\n",
    "rounds = os.listdir(mics_library.get_rootdir()) #get the list of MICS rounds for which there are data\n",
    "print(rounds) #print the list"
   ]
  },
  {
   "cell_type": "markdown",
   "id": "2587e3cc",
   "metadata": {},
   "source": [
    "The command above should have printed a list with the MICS rounds for which you have data.\n",
    "If `MICS5` is included in the output above, you are ready to go with the next step!\n",
    "\n",
    "However, at this stage, you might also consider to create additional folders that will be used later:\n",
    "- `screen`: where you will save the result of the screening of the MICS dataset;\n",
    "- `check`: where you will save the result of the check of the indicators;\n",
    "- `raw`: where you will save the extracted data"
   ]
  }
 ],
 "metadata": {
  "kernelspec": {
   "display_name": "mics",
   "language": "python",
   "name": "mics"
  },
  "language_info": {
   "codemirror_mode": {
    "name": "ipython",
    "version": 3
   },
   "file_extension": ".py",
   "mimetype": "text/x-python",
   "name": "python",
   "nbconvert_exporter": "python",
   "pygments_lexer": "ipython3",
   "version": "3.9.2"
  }
 },
 "nbformat": 4,
 "nbformat_minor": 5
}
